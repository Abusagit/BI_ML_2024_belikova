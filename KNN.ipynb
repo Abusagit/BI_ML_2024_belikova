{
 "cells": [
  {
   "cell_type": "markdown",
   "id": "39a37345-99a6-4b16-9be7-ebdca1414c7f",
   "metadata": {},
   "source": [
    "# Домашнее задание №1 - Метод К-ближайших соседей (K-neariest neighbors)\n",
    "\n",
    "Сегодня мы с вами реализуем наш первый алгоритм машинного обучения, метод К-ближайших соседей. Мы попытаемся решить с помощью него задачи:\n",
    "- бинарной классификации (то есть, только двум классам)\n",
    "- многоклассовой классификации (то есть, нескольким классам)\n",
    "- регрессии (когда зависимая переменная - натуральное число)\n",
    "\n",
    "Так как методу необходим гиперпараметр (hyperparameter) - количество соседей, то нам нужно научиться подбирать этот параметр. Мы постараемся научиться пользовать numpy для векторизованных вычислений, а также посмотрим на несколько метрик, которые используются в задачах классификации и регрессии.\n",
    "\n",
    "Перед выполнением задания:\n",
    "- установите все необходимые библиотеки, запустив `pip install -r requirements.txt`\n",
    "\n",
    "Если вы раньше не работали с numpy или позабыли его, то можно вспомнить здесь:  \n",
    "http://cs231n.github.io/python-numpy-tutorial/"
   ]
  },
  {
   "cell_type": "code",
   "execution_count": 1,
   "id": "9638c464-806f-41b5-9dfe-1ea2048a1fa1",
   "metadata": {},
   "outputs": [],
   "source": [
    "import time\n",
    "import matplotlib.pyplot as plt\n",
    "import seaborn as sns\n",
    "import numpy as np\n",
    "import random\n",
    "import pandas as pd\n",
    "\n",
    "\n",
    "from sklearn.datasets import fetch_openml\n",
    "from sklearn.model_selection import train_test_split\n",
    "from knn import KNNClassifier\n",
    "from metrics import binary_classification_metrics, multiclass_accuracy"
   ]
  },
  {
   "cell_type": "code",
   "execution_count": 2,
   "id": "43bd8dc9-c430-4313-a6a1-4d3e5a7e9c47",
   "metadata": {},
   "outputs": [],
   "source": [
    "plt.rcParams[\"figure.figsize\"] = 12, 9\n",
    "sns.set_style(\"whitegrid\")\n",
    "\n",
    "SEED = 111\n",
    "random.seed(SEED)\n",
    "np.random.seed(SEED)"
   ]
  },
  {
   "cell_type": "markdown",
   "id": "2867b963-214c-49ea-9460-5b427b56544d",
   "metadata": {},
   "source": [
    "## Задание 1. KNN на датасете Fashion-MNIST (10 баллов)"
   ]
  },
  {
   "cell_type": "markdown",
   "id": "60a90da7-87ac-42e6-b376-bb34dac2b10b",
   "metadata": {},
   "source": [
    "В этом задании вам предстоит поработать с картинками одежды, среди которых можно выделить 10 классов. Данные уже загружены за вас: в переменной X лежат 70000 картинок размером 28 на 28 пикселей, вытянутые в вектор размерностью 784 (28 * 28). Так как данных довольно много, а наш KNN будет весьма медленный, то возьмем случайно 1000 наблюдений (в реальности в зависимости от вашей реализации можно будет взять больше, но если будет не зватать ОЗУ, то берите меньше)."
   ]
  },
  {
   "cell_type": "code",
   "execution_count": 3,
   "id": "54fa4253-ea6a-4ec4-b914-f7cb2346b195",
   "metadata": {},
   "outputs": [],
   "source": [
    "X, y = fetch_openml(name=\"Fashion-MNIST\", return_X_y=True, as_frame=False)"
   ]
  },
  {
   "cell_type": "code",
   "execution_count": 4,
   "id": "3a188c83-6bf3-485d-9995-9f71d0868d30",
   "metadata": {},
   "outputs": [],
   "source": [
    "idx_to_stay = np.random.choice(np.arange(X.shape[0]), replace=False, size=1000)\n",
    "X = X[idx_to_stay]\n",
    "y = y[idx_to_stay]"
   ]
  },
  {
   "cell_type": "markdown",
   "id": "4a9e7f89-97f9-4257-94aa-989826258726",
   "metadata": {},
   "source": [
    "Давайте посмотрим на какое-нибудь изображение из наших данных:"
   ]
  },
  {
   "cell_type": "code",
   "execution_count": 5,
   "id": "277e132c-b89f-4dbb-8efd-cbcea015876d",
   "metadata": {},
   "outputs": [
    {
     "data": {
      "image/png": "[encoded data removed]",
      "text/plain": [
       "<Figure size 1200x900 with 1 Axes>"
      ]
     },
     "metadata": {},
     "output_type": "display_data"
    }
   ],
   "source": [
    "# возьмем случайную картинку и сделаем reshape\n",
    "# 28, 28, 1 = H, W, C (число каналов, в данном случае 1)\n",
    "image = X[np.random.choice(np.arange(X.shape[0]))].reshape(28, 28, 1)\n",
    "plt.imshow(image)\n",
    "plt.axis(\"off\");"
   ]
  },
  {
   "cell_type": "markdown",
   "id": "236e593f-595e-45f1-a794-4069a16637d7",
   "metadata": {},
   "source": [
    "### 1.1. Посмотрим на все классы (0.5 баллов)"
   ]
  },
  {
   "cell_type": "markdown",
   "id": "8cdf3ab2-47a4-492f-bf9a-25c4b00eb945",
   "metadata": {},
   "source": [
    "Возьмите по одной картинке каждого класса и изобразите их (например, сделайте subplots 5 на 2)."
   ]
  },
  {
   "cell_type": "code",
   "execution_count": 6,
   "id": "362137fb-4577-4a21-8088-98cba79206f2",
   "metadata": {},
   "outputs": [],
   "source": [
    "#images = X[np.random.choice(np.arange(X.shape[0]))].reshape(28, 28, 1)\n",
    "#plt.subplots(images)"
   ]
  },
  {
   "cell_type": "markdown",
   "id": "866ea214-4de8-41b8-a2aa-c86ac0a04b74",
   "metadata": {},
   "source": [
    "### 1.2. Сделайте небольшой EDA (1 балл)"
   ]
  },
  {
   "cell_type": "markdown",
   "id": "1fe3abdf-2c95-4ce8-8fd3-2445d815ea3c",
   "metadata": {},
   "source": [
    "Посмотрите на баланс классов. В дальнейших домашках делайте EDA, когда считаете нужным, он нужен почти всегда, но оцениваться это уже не будет, если не будет указано иное. Делайте EDA, чтобы узнать что-то новое о данных!"
   ]
  },
  {
   "cell_type": "code",
   "execution_count": 7,
   "id": "74595ef7-06ab-4700-b9d9-42db3fdd36d5",
   "metadata": {},
   "outputs": [
    {
     "data": {
      "text/plain": [
       "(array(['0', '1', '2', '3', '4', '5', '6', '7', '8', '9'], dtype=object),\n",
       " array([ 93, 102,  95, 121,  96,  98, 101,  79, 109, 106], dtype=int64))"
      ]
     },
     "execution_count": 7,
     "metadata": {},
     "output_type": "execute_result"
    }
   ],
   "source": [
    "#посмотрим на случайный элемент X и y\n",
    "X[40]\n",
    "y[23]\n",
    "#узнаем баланс классов\n",
    "np.unique(y, return_counts= True )\n"
   ]
  },
  {
   "cell_type": "markdown",
   "id": "68e8f61e-32d5-4ad7-9f2c-f7e0de050d32",
   "metadata": {},
   "source": [
    "### 1.3. Разделите данные на train и test (0.5 баллов)"
   ]
  },
  {
   "cell_type": "markdown",
   "id": "25cf3d30-6bd6-4bbb-bba6-4e249da33475",
   "metadata": {},
   "source": [
    "Разделите данные на тренировочную и тестовую выборки, размеры тестовой выборки выберите сами. Здесь вам может помочь функция `train_test_split`"
   ]
  },
  {
   "cell_type": "code",
   "execution_count": 8,
   "id": "1932bd43-16d6-4201-8950-7dbe720a9fa1",
   "metadata": {},
   "outputs": [],
   "source": [
    "X_train, X_test, y_train, y_test = train_test_split(X, y, test_size=0.3, random_state=42, stratify=y)\n",
    "y_train = y_train.astype(np.int32)\n",
    "y_test = y_test.astype(np.int32)"
   ]
  },
  {
   "cell_type": "markdown",
   "id": "7c8e4cd4-b3d7-49b7-9b10-be02991ecfa7",
   "metadata": {},
   "source": [
    "### 1.4. KNN для бинарной классификации (6 баллов)"
   ]
  },
  {
   "cell_type": "markdown",
   "id": "aac2e121-639a-4b0c-8e9c-471ad5a8fac6",
   "metadata": {},
   "source": [
    "Давайте возьмем для задачи бинарной классификации только объекты с метками классов 0 и 1."
   ]
  },
  {
   "cell_type": "code",
   "execution_count": 9,
   "id": "f40beae7-54a4-4323-b467-3173737dfd84",
   "metadata": {},
   "outputs": [
    {
     "data": {
      "text/plain": [
       "array([[0, 0, 0, ..., 0, 0, 0],\n",
       "       [0, 0, 0, ..., 0, 0, 0],\n",
       "       [0, 0, 0, ..., 0, 0, 0],\n",
       "       ...,\n",
       "       [0, 0, 0, ..., 0, 0, 0],\n",
       "       [0, 0, 0, ..., 0, 0, 0],\n",
       "       [0, 0, 0, ..., 0, 0, 0]])"
      ]
     },
     "execution_count": 9,
     "metadata": {},
     "output_type": "execute_result"
    }
   ],
   "source": [
    "array_zero = np.where(y_train == 0)\n",
    "array_one = np.where(y_train == 1)\n",
    "train_indexes_zero_one = np.hstack([array_zero, array_one])\n",
    "train_indexes_zero_one.sort()\n",
    "\n",
    "binary_train_X = X_train[train_indexes_zero_one,]\n",
    "binary_train_X.resize(136, 784)\n",
    "binary_train_X.astype(np.int32)\n",
    "\n",
    "binary_train_y = np.ravel(np.array(y_train[train_indexes_zero_one,], int))\n",
    "\n",
    "test_array_zero = np.where(y_test == 0)\n",
    "test_array_one = np.where(y_test == 1)\n",
    "test_indexes = np.hstack([test_array_zero, test_array_one])\n",
    "test_indexes.sort()\n",
    "\n",
    "binary_test_y = y_test[test_indexes]\n",
    "\n",
    "binary_test_X = X_test[test_indexes,]\n",
    "binary_test_X.resize(59, 784)\n",
    "binary_test_X.astype(np.int32)"
   ]
  },
  {
   "cell_type": "markdown",
   "id": "7df7db35-8832-47ec-9955-d0656695e7cd",
   "metadata": {},
   "source": [
    "И вот мы подготовили данные, но модели у нас пока что нет. В нескольких занятиях нашего курса вам придется самостоятельно реализовывать какие-то алгоритмы машинного обучения, а потом сравнивать их с готовыми библиотечными решениями. В остальных заданиях реализовывать алгоритмы будет не обязательно, но может быть полезно, поэтому часто это будут задания на дополнительные баллы, но главное не это, а понимание работы алгоритма после его реализации с нуля на простом numpy. Также это все потом можно оформить в виде репозитория ml_from_scratch и хвастаться перед друзьями."
   ]
  },
  {
   "cell_type": "code",
   "execution_count": 10,
   "id": "44d468e9-2a00-4268-bfdc-fbae3857ce90",
   "metadata": {},
   "outputs": [],
   "source": [
    "knn_classifier = KNNClassifier(k=1)\n",
    "knn_classifier.fit(binary_train_X, binary_train_y)"
   ]
  },
  {
   "cell_type": "markdown",
   "id": "c5817a1d-161e-4242-bea5-821f416b3eec",
   "metadata": {},
   "source": [
    "### Настало время писать код!"
   ]
  },
  {
   "cell_type": "markdown",
   "id": "61c760bb-63c9-426d-9f4e-8fab02536da5",
   "metadata": {},
   "source": [
    "В KNN нам нужно для каждого тестового примера найти расстояния до всех точек обучающей выборки. Допустим у нас 1000 примеров в train'е и 100 в test'е, тогда в итоге мы бы хотели получить матрицу попарных расстояний (например, размерностью 100 на 1000). Это можно сделать несколькими способами, и кому-то наверняка, в голову приходит идея с двумя вложенными циклами (надеюсь, что не больше:). Так можно делать, то можно и эффективнее. Вообще, в реальном KNN используется структура данных [k-d-tree](https://ru.wikipedia.org/wiki/K-d-%D0%B4%D0%B5%D1%80%D0%B5%D0%B2%D0%BE), которая позволяет производить поиск за log(N), а не за N, как будем делать мы (по сути это такое расширение бинарного поиска на многомерное пространство).\n",
    "\n",
    "Вам нужно будет последовательно реализовать методы `compute_distances_two_loops`, `compute_distances_one_loop` и `compute_distances_no_loops` класса `KNN` в файле `knn.py`.\n",
    "\n",
    "Эти функции строят массив расстояний между всеми векторами в тестовом наборе и в тренировочном наборе.  \n",
    "В результате они должны построить массив размера `(num_test, num_train)`, где координата `[i][j]` соотвествует расстоянию между i-м вектором в test (`test[i]`) и j-м вектором в train (`train[j]`).\n",
    "\n",
    "**Обратите внимание** Для простоты реализации мы будем использовать в качестве расстояния меру L1 (ее еще называют [Manhattan distance](https://ru.wikipedia.org/wiki/%D0%A0%D0%B0%D1%81%D1%81%D1%82%D0%BE%D1%8F%D0%BD%D0%B8%D0%B5_%D0%B3%D0%BE%D1%80%D0%BE%D0%B4%D1%81%D0%BA%D0%B8%D1%85_%D0%BA%D0%B2%D0%B0%D1%80%D1%82%D0%B0%D0%BB%D0%BE%D0%B2)).\n",
    "\n",
    "$d_{1}(\\mathbf {p} ,\\mathbf {q} )=\\|\\mathbf {p} -\\mathbf {q} \\|_{1}=\\sum _{i=1}^{n}|p_{i}-q_{i}|$"
   ]
  },
  {
   "cell_type": "markdown",
   "id": "c32db2d0-355c-4d74-961e-22d6f42aa11b",
   "metadata": {},
   "source": [
    "В начале я буду иногда писать разные assert'ы, чтобы можно было проверить правильность реализации, в дальнейшем вам нужно будет их писать самим, если нужно будет проверять корректность каких-то вычислений."
   ]
  },
  {
   "cell_type": "code",
   "execution_count": 11,
   "id": "01b1ef27-4284-4d6c-978b-25f0fefd39be",
   "metadata": {},
   "outputs": [],
   "source": [
    "# TODO: compute_distances_two_loops\n",
    "dists = knn_classifier.compute_distances_two_loops(binary_test_X)\n",
    "assert np.isclose(dists[0, 100], np.sum(np.abs(binary_test_X[0] - binary_train_X[100])))"
   ]
  },
  {
   "cell_type": "code",
   "execution_count": 12,
   "id": "505e2c4b-1cfe-4e4a-8002-d9ce089d100e",
   "metadata": {},
   "outputs": [],
   "source": [
    "# TODO: compute_distances_one_loop\n",
    "dists = knn_classifier.compute_distances_one_loop(binary_test_X)\n",
    "assert np.isclose(dists[0, 100], np.sum(np.abs(binary_test_X[0] - binary_train_X[100])))"
   ]
  },
  {
   "cell_type": "code",
   "execution_count": 13,
   "id": "dd81b766-5de2-4f62-82cf-8b6bd52002db",
   "metadata": {},
   "outputs": [],
   "source": [
    "# TODO: compute_distances_no_loops\n",
    "dists = knn_classifier.compute_distances_no_loops(binary_test_X)\n",
    "assert np.isclose(dists[0, 100], np.sum(np.abs(binary_test_X[0] - binary_train_X[100])))"
   ]
  },
  {
   "cell_type": "markdown",
   "id": "64d108b7-b132-42b5-bdca-bc91af8ed3d7",
   "metadata": {},
   "source": [
    "Проверим скорость работы реализованных методов"
   ]
  },
  {
   "cell_type": "code",
   "execution_count": 14,
   "id": "8ed08354-d0ef-497a-9d9c-b17c92b7bef9",
   "metadata": {},
   "outputs": [
    {
     "name": "stdout",
     "output_type": "stream",
     "text": [
      "275 ms ± 6.81 ms per loop (mean ± std. dev. of 7 runs, 1 loop each)\n",
      "7.67 ms ± 209 µs per loop (mean ± std. dev. of 7 runs, 100 loops each)\n",
      "68.1 ms ± 1.37 ms per loop (mean ± std. dev. of 7 runs, 10 loops each)\n"
     ]
    }
   ],
   "source": [
    "%timeit knn_classifier.compute_distances_two_loops(binary_test_X)\n",
    "%timeit knn_classifier.compute_distances_one_loop(binary_test_X)\n",
    "%timeit knn_classifier.compute_distances_no_loops(binary_test_X)"
   ]
  },
  {
   "cell_type": "markdown",
   "id": "8180ecc3-8c24-4564-8963-1a0123b06043",
   "metadata": {},
   "source": [
    "Реализуем метод для предсказания меток класса"
   ]
  },
  {
   "cell_type": "code",
   "execution_count": 15,
   "id": "9ca2679e-c731-467b-94b5-91a3a0641d7e",
   "metadata": {},
   "outputs": [],
   "source": [
    "# TODO: predict_labels_binary in knn.py\n",
    "prediction = knn_classifier.predict(binary_test_X)"
   ]
  },
  {
   "cell_type": "markdown",
   "id": "d746796d-6ca0-4828-be8a-8b9e22999f54",
   "metadata": {},
   "source": [
    "### Метрика"
   ]
  },
  {
   "cell_type": "markdown",
   "id": "c29f2abf-be34-4273-a7cd-d2c62ba1eecc",
   "metadata": {},
   "source": [
    "Теперь нужно реализовать несколько метрик для бинарной классификации. Не забудьте подумать о численной нестабильности (деление на 0)."
   ]
  },
  {
   "cell_type": "code",
   "execution_count": 16,
   "id": "94268969-5334-4672-a939-65733068a89a",
   "metadata": {},
   "outputs": [],
   "source": [
    "# TODO: binary_classification_metrics in metrics.py"
   ]
  },
  {
   "cell_type": "code",
   "execution_count": 17,
   "id": "7842978b-a328-4035-b9c4-eb3711cb58c4",
   "metadata": {},
   "outputs": [
    {
     "data": {
      "text/plain": [
       "(1.0, 0.5, 0.6666666666666666, 1.0)"
      ]
     },
     "execution_count": 17,
     "metadata": {},
     "output_type": "execute_result"
    }
   ],
   "source": [
    "binary_classification_metrics(prediction, binary_test_y)"
   ]
  },
  {
   "cell_type": "markdown",
   "id": "71dbca1f-9ad4-4059-9b1c-0c0c85d7d816",
   "metadata": {},
   "source": [
    "Все ли хорошо с моделью? Можно проверить свою реализацию с функциями из библиотеки `sklearn`:"
   ]
  },
  {
   "cell_type": "markdown",
   "id": "5982d081-ddf9-4522-99b0-459a5cee087c",
   "metadata": {},
   "source": [
    "<img src=\"https://i.imgflip.com/406fu9.jpg\" width=\"800\" height=\"400\">"
   ]
  },
  {
   "cell_type": "code",
   "execution_count": 18,
   "id": "5caeb94f-6464-4adf-b3b6-8e12bf4a50b4",
   "metadata": {},
   "outputs": [],
   "source": [
    "from sklearn.metrics import precision_score, recall_score, f1_score, accuracy_score"
   ]
  },
  {
   "cell_type": "markdown",
   "id": "6e9b0e1a-3c67-4cc3-bf75-6848f43e8256",
   "metadata": {},
   "source": [
    "### Подбор оптимального k"
   ]
  },
  {
   "cell_type": "markdown",
   "id": "4069069e-f200-4673-a99c-745e7a5b6b36",
   "metadata": {},
   "source": [
    "Чтобы подрбрать оптимальное значение параметра k можно сделать следующее: задать область допустимых значений k, например, `[1, 3, 5, 10]`. Дальше для каждого k обучить модель на тренировочных данных, сделать предсказания на тестовых и посчитать какую-нибудь метрику (метрику выберите сами исходя из задачи, но постарайтесь обосновать выбор). В конце нужно посмотреть на зависимость метрики на train'е и test'е от k и выбрать подходящее значение.\n",
    "\n",
    "Реализуйте функцию `choose_best_k` прямо в ноутбуке."
   ]
  },
  {
   "cell_type": "code",
   "execution_count": 19,
   "id": "374d6fcf-21f2-433c-b011-76019201ce52",
   "metadata": {},
   "outputs": [],
   "source": [
    "def find_best_k(X_train, y_train, X_test, y_test, params, metric):\n",
    "    \"\"\"\n",
    "    Choose the best k for KKNClassifier\n",
    "    Arguments:\n",
    "    X_train, np array (num_train_samples, num_features) - train data\n",
    "    y_train, np array (num_train_samples) - train labels\n",
    "    X_test, np array (num_test_samples, num_features) - test data\n",
    "    y_test, np array (num_test_samples) - test labels\n",
    "    params, list of hyperparameters for KNN, here it is list of k values\n",
    "    metric, function for metric calculation\n",
    "    Returns:\n",
    "    train_metrics the list of metric values on train data set for each k in params\n",
    "    test_metrics the list of metric values on test data set for each k in params\n",
    "    \"\"\"\n",
    "\n",
    "    train_metrics = []\n",
    "    test_metrics = []\n",
    "    accuracy_score = []\n",
    "\n",
    "    for k in params:\n",
    "        knn_classifier = KNNClassifier(k=k)\n",
    "        knn_classifier.fit(X_train, y_train)\n",
    "        prediction = knn_classifier.predict(X_train)\n",
    "        train_metric = binary_classification_metrics(prediction, y_test)\n",
    "        test_metric = binary_classification_metrics(y_test, y_test)\n",
    "        train_metrics.append(train_metric[3])\n",
    "        test_metrics.append(test_metric[3])\n",
    "        \n",
    "    return train_metrics, test_metrics"
   ]
  },
  {
   "cell_type": "code",
   "execution_count": 20,
   "id": "a2418dd8-93f1-4a11-8488-a8bce98e7d5f",
   "metadata": {
    "tags": []
   },
   "outputs": [],
   "source": [
    "params = [1, 2, 4, 5, 8, 10, 30]\n",
    "train_metrics, test_metrics = find_best_k(binary_train_X, binary_train_y, binary_test_X, binary_test_y, params)"
   ]
  },
  {
   "cell_type": "code",
   "execution_count": 21,
   "id": "7053ce06-854c-412b-8559-833595b1d6c0",
   "metadata": {},
   "outputs": [
    {
     "data": {
      "image/png": "[encoded data removed]",
      "text/plain": [
       "<Figure size 1200x900 with 1 Axes>"
      ]
     },
     "metadata": {},
     "output_type": "display_data"
    }
   ],
   "source": [
    "#Похоже, я всё сломала, и моя модель предсказывает \"верно\" в 100% случаев.\n",
    "plt.plot(params, train_metrics, label=\"train\")\n",
    "#plt.plot(params, test_metrics, label=\"test\")\n",
    "plt.legend()\n",
    "plt.xlabel(\"K in KNN\")\n",
    "plt.ylabel(\"Accuracy\");"
   ]
  },
  {
   "cell_type": "markdown",
   "id": "73fdecd7-a4b6-4ca9-8688-d1ae2195647f",
   "metadata": {},
   "source": [
    "На самом деле, это не самый лучший способ подбирать гиперпараметры, но способы получше мы рассмотрим в следующий раз, а пока что выберите оптимальное значение k, сделайте предсказания и посмотрите, насколько хорошо ваша модель предсказывает каждый из классов."
   ]
  },
  {
   "cell_type": "markdown",
   "id": "0bc98c29-3217-407c-a466-58072bb7b8cc",
   "metadata": {},
   "source": [
    "### 1.5. Многоклассоввая классификация (2 балла)"
   ]
  },
  {
   "cell_type": "markdown",
   "id": "aa0fa9bf-3002-4b0e-8e52-1d9e70795092",
   "metadata": {},
   "source": [
    "Теперь нужно научиться предсказывать все 10 классов. Для этого в начале напишем соответствующий метод у нашего классификатора."
   ]
  },
  {
   "cell_type": "code",
   "execution_count": 22,
   "id": "88b37ef1-fa15-4cc5-8558-0254890c899d",
   "metadata": {},
   "outputs": [],
   "source": [
    "# TODO: predict_labels_multiclass in knn.py\n",
    "knn_classifier = KNNClassifier(k=1)\n",
    "knn_classifier.fit(X_train, y_train)\n",
    "predictions = knn_classifier.predict(X_test)"
   ]
  },
  {
   "cell_type": "markdown",
   "id": "fa8ed7ad-e347-4f78-b34f-88febee9e94b",
   "metadata": {},
   "source": [
    "Осталось реализовать метрику качества для многоклассовой классификации, для этого реализуйте функцию `multiclass_accuracy` в `metrics.py`."
   ]
  },
  {
   "cell_type": "code",
   "execution_count": 23,
   "id": "65887922-a799-4042-902e-f63f69508beb",
   "metadata": {},
   "outputs": [
    {
     "data": {
      "text/plain": [
       "0.7833333333333333"
      ]
     },
     "execution_count": 23,
     "metadata": {},
     "output_type": "execute_result"
    }
   ],
   "source": [
    "# TODO: multiclass_accuracy in metrics.py\n",
    "multiclass_accuracy(predictions, y_test)"
   ]
  },
  {
   "cell_type": "markdown",
   "id": "a6fe44f6-e056-4f17-beb6-0ce65fab268f",
   "metadata": {},
   "source": [
    "Снова выберите оптимальное значение K как мы делали для бинарной классификации."
   ]
  },
  {
   "cell_type": "code",
   "execution_count": 41,
   "id": "3eea8ff3",
   "metadata": {},
   "outputs": [
    {
     "ename": "ValueError",
     "evalue": "Classification metrics can't handle a mix of continuous and multiclass targets",
     "output_type": "error",
     "traceback": [
      "\u001b[1;31m---------------------------------------------------------------------------\u001b[0m",
      "\u001b[1;31mValueError\u001b[0m                                Traceback (most recent call last)",
      "Cell \u001b[1;32mIn[41], line 5\u001b[0m\n\u001b[0;32m      1\u001b[0m \u001b[38;5;66;03m#ура! сново всё идеально и наши предсказания абсолютно точны\u001b[39;00m\n\u001b[0;32m      2\u001b[0m \u001b[38;5;66;03m#и очень медленны\u001b[39;00m\n\u001b[0;32m      4\u001b[0m params \u001b[38;5;241m=\u001b[39m [\u001b[38;5;241m1\u001b[39m, \u001b[38;5;241m2\u001b[39m, \u001b[38;5;241m4\u001b[39m, \u001b[38;5;241m5\u001b[39m, \u001b[38;5;241m8\u001b[39m, \u001b[38;5;241m10\u001b[39m, \u001b[38;5;241m30\u001b[39m]\n\u001b[1;32m----> 5\u001b[0m train_metrics, test_metrics \u001b[38;5;241m=\u001b[39m \u001b[43mfind_best_k\u001b[49m\u001b[43m(\u001b[49m\u001b[43mX_train\u001b[49m\u001b[43m,\u001b[49m\u001b[43m \u001b[49m\u001b[43my_train\u001b[49m\u001b[43m,\u001b[49m\u001b[43m \u001b[49m\u001b[43mX_test\u001b[49m\u001b[43m,\u001b[49m\u001b[43m \u001b[49m\u001b[43my_test\u001b[49m\u001b[43m,\u001b[49m\u001b[43m \u001b[49m\u001b[43mparams\u001b[49m\u001b[43m,\u001b[49m\u001b[43m \u001b[49m\u001b[43maccuracy_score\u001b[49m\u001b[43m)\u001b[49m\n\u001b[0;32m      6\u001b[0m plt\u001b[38;5;241m.\u001b[39mplot(params, train_metrics, label\u001b[38;5;241m=\u001b[39m\u001b[38;5;124m\"\u001b[39m\u001b[38;5;124mtrain\u001b[39m\u001b[38;5;124m\"\u001b[39m)\n\u001b[0;32m      7\u001b[0m plt\u001b[38;5;241m.\u001b[39mplot(params, test_metrics, label\u001b[38;5;241m=\u001b[39m\u001b[38;5;124m\"\u001b[39m\u001b[38;5;124mtest\u001b[39m\u001b[38;5;124m\"\u001b[39m)\n",
      "Cell \u001b[1;32mIn[37], line 23\u001b[0m, in \u001b[0;36mfind_best_k\u001b[1;34m(X_train, y_train, X_test, y_test, params, metric)\u001b[0m\n\u001b[0;32m     21\u001b[0m knn\u001b[38;5;241m.\u001b[39mfit(X_train, y_train)\n\u001b[0;32m     22\u001b[0m train_pred \u001b[38;5;241m=\u001b[39m knn\u001b[38;5;241m.\u001b[39mpredict(X_train)\n\u001b[1;32m---> 23\u001b[0m train_metrics\u001b[38;5;241m.\u001b[39mappend(\u001b[43mmetric\u001b[49m\u001b[43m(\u001b[49m\u001b[43mtrain_pred\u001b[49m\u001b[43m,\u001b[49m\u001b[43m \u001b[49m\u001b[43my_train\u001b[49m\u001b[43m)\u001b[49m)\n\u001b[0;32m     24\u001b[0m test_pred \u001b[38;5;241m=\u001b[39m knn\u001b[38;5;241m.\u001b[39mpredict(X_test)\n\u001b[0;32m     25\u001b[0m test_metrics\u001b[38;5;241m.\u001b[39mappend(metric(test_pred, y_test))\n",
      "File \u001b[1;32mc:\\Users\\kiit8\\AppData\\Local\\Programs\\Python\\Python312\\Lib\\site-packages\\sklearn\\utils\\_param_validation.py:213\u001b[0m, in \u001b[0;36mvalidate_params.<locals>.decorator.<locals>.wrapper\u001b[1;34m(*args, **kwargs)\u001b[0m\n\u001b[0;32m    207\u001b[0m \u001b[38;5;28;01mtry\u001b[39;00m:\n\u001b[0;32m    208\u001b[0m     \u001b[38;5;28;01mwith\u001b[39;00m config_context(\n\u001b[0;32m    209\u001b[0m         skip_parameter_validation\u001b[38;5;241m=\u001b[39m(\n\u001b[0;32m    210\u001b[0m             prefer_skip_nested_validation \u001b[38;5;129;01mor\u001b[39;00m global_skip_validation\n\u001b[0;32m    211\u001b[0m         )\n\u001b[0;32m    212\u001b[0m     ):\n\u001b[1;32m--> 213\u001b[0m         \u001b[38;5;28;01mreturn\u001b[39;00m \u001b[43mfunc\u001b[49m\u001b[43m(\u001b[49m\u001b[38;5;241;43m*\u001b[39;49m\u001b[43margs\u001b[49m\u001b[43m,\u001b[49m\u001b[43m \u001b[49m\u001b[38;5;241;43m*\u001b[39;49m\u001b[38;5;241;43m*\u001b[39;49m\u001b[43mkwargs\u001b[49m\u001b[43m)\u001b[49m\n\u001b[0;32m    214\u001b[0m \u001b[38;5;28;01mexcept\u001b[39;00m InvalidParameterError \u001b[38;5;28;01mas\u001b[39;00m e:\n\u001b[0;32m    215\u001b[0m     \u001b[38;5;66;03m# When the function is just a wrapper around an estimator, we allow\u001b[39;00m\n\u001b[0;32m    216\u001b[0m     \u001b[38;5;66;03m# the function to delegate validation to the estimator, but we replace\u001b[39;00m\n\u001b[0;32m    217\u001b[0m     \u001b[38;5;66;03m# the name of the estimator by the name of the function in the error\u001b[39;00m\n\u001b[0;32m    218\u001b[0m     \u001b[38;5;66;03m# message to avoid confusion.\u001b[39;00m\n\u001b[0;32m    219\u001b[0m     msg \u001b[38;5;241m=\u001b[39m re\u001b[38;5;241m.\u001b[39msub(\n\u001b[0;32m    220\u001b[0m         \u001b[38;5;124mr\u001b[39m\u001b[38;5;124m\"\u001b[39m\u001b[38;5;124mparameter of \u001b[39m\u001b[38;5;124m\\\u001b[39m\u001b[38;5;124mw+ must be\u001b[39m\u001b[38;5;124m\"\u001b[39m,\n\u001b[0;32m    221\u001b[0m         \u001b[38;5;124mf\u001b[39m\u001b[38;5;124m\"\u001b[39m\u001b[38;5;124mparameter of \u001b[39m\u001b[38;5;132;01m{\u001b[39;00mfunc\u001b[38;5;241m.\u001b[39m\u001b[38;5;18m__qualname__\u001b[39m\u001b[38;5;132;01m}\u001b[39;00m\u001b[38;5;124m must be\u001b[39m\u001b[38;5;124m\"\u001b[39m,\n\u001b[0;32m    222\u001b[0m         \u001b[38;5;28mstr\u001b[39m(e),\n\u001b[0;32m    223\u001b[0m     )\n",
      "File \u001b[1;32mc:\\Users\\kiit8\\AppData\\Local\\Programs\\Python\\Python312\\Lib\\site-packages\\sklearn\\metrics\\_classification.py:213\u001b[0m, in \u001b[0;36maccuracy_score\u001b[1;34m(y_true, y_pred, normalize, sample_weight)\u001b[0m\n\u001b[0;32m    147\u001b[0m \u001b[38;5;250m\u001b[39m\u001b[38;5;124;03m\"\"\"Accuracy classification score.\u001b[39;00m\n\u001b[0;32m    148\u001b[0m \n\u001b[0;32m    149\u001b[0m \u001b[38;5;124;03mIn multilabel classification, this function computes subset accuracy:\u001b[39;00m\n\u001b[1;32m   (...)\u001b[0m\n\u001b[0;32m    209\u001b[0m \u001b[38;5;124;03m0.5\u001b[39;00m\n\u001b[0;32m    210\u001b[0m \u001b[38;5;124;03m\"\"\"\u001b[39;00m\n\u001b[0;32m    212\u001b[0m \u001b[38;5;66;03m# Compute accuracy for each possible representation\u001b[39;00m\n\u001b[1;32m--> 213\u001b[0m y_type, y_true, y_pred \u001b[38;5;241m=\u001b[39m \u001b[43m_check_targets\u001b[49m\u001b[43m(\u001b[49m\u001b[43my_true\u001b[49m\u001b[43m,\u001b[49m\u001b[43m \u001b[49m\u001b[43my_pred\u001b[49m\u001b[43m)\u001b[49m\n\u001b[0;32m    214\u001b[0m check_consistent_length(y_true, y_pred, sample_weight)\n\u001b[0;32m    215\u001b[0m \u001b[38;5;28;01mif\u001b[39;00m y_type\u001b[38;5;241m.\u001b[39mstartswith(\u001b[38;5;124m\"\u001b[39m\u001b[38;5;124mmultilabel\u001b[39m\u001b[38;5;124m\"\u001b[39m):\n",
      "File \u001b[1;32mc:\\Users\\kiit8\\AppData\\Local\\Programs\\Python\\Python312\\Lib\\site-packages\\sklearn\\metrics\\_classification.py:94\u001b[0m, in \u001b[0;36m_check_targets\u001b[1;34m(y_true, y_pred)\u001b[0m\n\u001b[0;32m     91\u001b[0m     y_type \u001b[38;5;241m=\u001b[39m {\u001b[38;5;124m\"\u001b[39m\u001b[38;5;124mmulticlass\u001b[39m\u001b[38;5;124m\"\u001b[39m}\n\u001b[0;32m     93\u001b[0m \u001b[38;5;28;01mif\u001b[39;00m \u001b[38;5;28mlen\u001b[39m(y_type) \u001b[38;5;241m>\u001b[39m \u001b[38;5;241m1\u001b[39m:\n\u001b[1;32m---> 94\u001b[0m     \u001b[38;5;28;01mraise\u001b[39;00m \u001b[38;5;167;01mValueError\u001b[39;00m(\n\u001b[0;32m     95\u001b[0m         \u001b[38;5;124m\"\u001b[39m\u001b[38;5;124mClassification metrics can\u001b[39m\u001b[38;5;124m'\u001b[39m\u001b[38;5;124mt handle a mix of \u001b[39m\u001b[38;5;132;01m{0}\u001b[39;00m\u001b[38;5;124m and \u001b[39m\u001b[38;5;132;01m{1}\u001b[39;00m\u001b[38;5;124m targets\u001b[39m\u001b[38;5;124m\"\u001b[39m\u001b[38;5;241m.\u001b[39mformat(\n\u001b[0;32m     96\u001b[0m             type_true, type_pred\n\u001b[0;32m     97\u001b[0m         )\n\u001b[0;32m     98\u001b[0m     )\n\u001b[0;32m    100\u001b[0m \u001b[38;5;66;03m# We can't have more than one value on y_type => The set is no more needed\u001b[39;00m\n\u001b[0;32m    101\u001b[0m y_type \u001b[38;5;241m=\u001b[39m y_type\u001b[38;5;241m.\u001b[39mpop()\n",
      "\u001b[1;31mValueError\u001b[0m: Classification metrics can't handle a mix of continuous and multiclass targets"
     ]
    }
   ],
   "source": [
    "#здесь что-то сломалось\n",
    "\n",
    "params = [1, 2, 4, 5, 8, 10, 30]\n",
    "train_metrics, test_metrics = find_best_k(X_train, y_train, X_test, y_test, params, accuracy_score)\n",
    "plt.plot(params, train_metrics, label=\"train\")\n",
    "plt.plot(params, test_metrics, label=\"test\")\n",
    "plt.legend()\n",
    "plt.xlabel(\"K in KNN\")\n",
    "plt.ylabel(\"Accuracy\");"
   ]
  },
  {
   "cell_type": "markdown",
   "id": "daa8ee4a-88c1-4967-84f1-6f7ec223db7e",
   "metadata": {},
   "source": [
    "## Задание 2. KNN на датасете diabetes (10 баллов)"
   ]
  },
  {
   "cell_type": "markdown",
   "id": "d3dac1f9-42ef-406f-988c-2d663b8b2806",
   "metadata": {},
   "source": [
    "Теперь попробуем применить KNN к задаче регрессии. Будем работать с [данными](https://scikit-learn.org/stable/datasets/toy_dataset.html#diabetes-dataset) о диабете. В этом задании будем использовать класс `KNeighborsRegressor` из библиотеки `sklearn`. Загрузим необходимые библиотеки:"
   ]
  },
  {
   "cell_type": "code",
   "execution_count": 25,
   "id": "8ab4c84e-6036-4fe2-b81f-8115bf0a4774",
   "metadata": {},
   "outputs": [],
   "source": [
    "from sklearn.datasets import load_diabetes\n",
    "from sklearn.metrics import r2_score, mean_absolute_error, mean_squared_error\n",
    "from sklearn.preprocessing import StandardScaler\n",
    "from sklearn.neighbors import KNeighborsRegressor"
   ]
  },
  {
   "cell_type": "code",
   "execution_count": 26,
   "id": "4136b3bb-e482-4102-ad5f-af5b3b1a030a",
   "metadata": {},
   "outputs": [],
   "source": [
    "X, y = load_diabetes(as_frame=True, return_X_y=True, scaled = False)"
   ]
  },
  {
   "cell_type": "code",
   "execution_count": 27,
   "id": "c884e687-964a-4b00-9f10-232c45705f12",
   "metadata": {},
   "outputs": [
    {
     "data": {
      "text/html": [
       "<div>\n",
       "<style scoped>\n",
       "    .dataframe tbody tr th:only-of-type {\n",
       "        vertical-align: middle;\n",
       "    }\n",
       "\n",
       "    .dataframe tbody tr th {\n",
       "        vertical-align: top;\n",
       "    }\n",
       "\n",
       "    .dataframe thead th {\n",
       "        text-align: right;\n",
       "    }\n",
       "</style>\n",
       "<table border=\"1\" class=\"dataframe\">\n",
       "  <thead>\n",
       "    <tr style=\"text-align: right;\">\n",
       "      <th></th>\n",
       "      <th>age</th>\n",
       "      <th>sex</th>\n",
       "      <th>bmi</th>\n",
       "      <th>bp</th>\n",
       "      <th>s1</th>\n",
       "      <th>s2</th>\n",
       "      <th>s3</th>\n",
       "      <th>s4</th>\n",
       "      <th>s5</th>\n",
       "      <th>s6</th>\n",
       "    </tr>\n",
       "  </thead>\n",
       "  <tbody>\n",
       "    <tr>\n",
       "      <th>0</th>\n",
       "      <td>59.0</td>\n",
       "      <td>2.0</td>\n",
       "      <td>32.1</td>\n",
       "      <td>101.0</td>\n",
       "      <td>157.0</td>\n",
       "      <td>93.2</td>\n",
       "      <td>38.0</td>\n",
       "      <td>4.0</td>\n",
       "      <td>4.8598</td>\n",
       "      <td>87.0</td>\n",
       "    </tr>\n",
       "    <tr>\n",
       "      <th>1</th>\n",
       "      <td>48.0</td>\n",
       "      <td>1.0</td>\n",
       "      <td>21.6</td>\n",
       "      <td>87.0</td>\n",
       "      <td>183.0</td>\n",
       "      <td>103.2</td>\n",
       "      <td>70.0</td>\n",
       "      <td>3.0</td>\n",
       "      <td>3.8918</td>\n",
       "      <td>69.0</td>\n",
       "    </tr>\n",
       "    <tr>\n",
       "      <th>2</th>\n",
       "      <td>72.0</td>\n",
       "      <td>2.0</td>\n",
       "      <td>30.5</td>\n",
       "      <td>93.0</td>\n",
       "      <td>156.0</td>\n",
       "      <td>93.6</td>\n",
       "      <td>41.0</td>\n",
       "      <td>4.0</td>\n",
       "      <td>4.6728</td>\n",
       "      <td>85.0</td>\n",
       "    </tr>\n",
       "    <tr>\n",
       "      <th>3</th>\n",
       "      <td>24.0</td>\n",
       "      <td>1.0</td>\n",
       "      <td>25.3</td>\n",
       "      <td>84.0</td>\n",
       "      <td>198.0</td>\n",
       "      <td>131.4</td>\n",
       "      <td>40.0</td>\n",
       "      <td>5.0</td>\n",
       "      <td>4.8903</td>\n",
       "      <td>89.0</td>\n",
       "    </tr>\n",
       "    <tr>\n",
       "      <th>4</th>\n",
       "      <td>50.0</td>\n",
       "      <td>1.0</td>\n",
       "      <td>23.0</td>\n",
       "      <td>101.0</td>\n",
       "      <td>192.0</td>\n",
       "      <td>125.4</td>\n",
       "      <td>52.0</td>\n",
       "      <td>4.0</td>\n",
       "      <td>4.2905</td>\n",
       "      <td>80.0</td>\n",
       "    </tr>\n",
       "  </tbody>\n",
       "</table>\n",
       "</div>"
      ],
      "text/plain": [
       "    age  sex   bmi     bp     s1     s2    s3   s4      s5    s6\n",
       "0  59.0  2.0  32.1  101.0  157.0   93.2  38.0  4.0  4.8598  87.0\n",
       "1  48.0  1.0  21.6   87.0  183.0  103.2  70.0  3.0  3.8918  69.0\n",
       "2  72.0  2.0  30.5   93.0  156.0   93.6  41.0  4.0  4.6728  85.0\n",
       "3  24.0  1.0  25.3   84.0  198.0  131.4  40.0  5.0  4.8903  89.0\n",
       "4  50.0  1.0  23.0  101.0  192.0  125.4  52.0  4.0  4.2905  80.0"
      ]
     },
     "execution_count": 27,
     "metadata": {},
     "output_type": "execute_result"
    }
   ],
   "source": [
    "X.head()"
   ]
  },
  {
   "cell_type": "markdown",
   "id": "9ce6cd71-dd17-40af-b7cc-c48e61d31719",
   "metadata": {},
   "source": [
    "### 2.1. EDA (2 обязательных балла + 2 доп. балла за Pipeline)"
   ]
  },
  {
   "cell_type": "markdown",
   "id": "4397b3ad-63f9-4b25-ab7e-d572216e21c5",
   "metadata": {},
   "source": [
    "Сделайте EDA, предобработайте данные так, как считаете нужным, нужна ли в данном случае стандартизация и почему? Не забудте, что если вы стандартизуете данные, то нужно считать среднее и сдандартное отклонение на тренировочной части и с помощью них трансформировать и train, и test (**если не поняли это предложение, то обязательно разберитесь**).\n",
    "\n",
    "**Дополнительно**:\n",
    "Попробуйте разобраться с [`Pipeline`](https://scikit-learn.org/stable/modules/generated/sklearn.pipeline.Pipeline.html), чтобы можно было создать класс, который сразу проводит стандартизацию и обучает модель (или делает предсказание). Пайплайны очень удобны, когда нужно применять различные методы предобработки данных (в том числе и к разным столбцам), а также они позволяют правильно интегрировать предобработку данных в различные классы для поиска наилучших гиперпараметров модели (например, `GridSearchCV`)."
   ]
  },
  {
   "cell_type": "code",
   "execution_count": 28,
   "id": "a4aa413d-d830-4355-a063-9c5d6d5a6c9a",
   "metadata": {},
   "outputs": [
    {
     "name": "stdout",
     "output_type": "stream",
     "text": [
      "<class 'pandas.core.frame.DataFrame'>\n",
      "RangeIndex: 442 entries, 0 to 441\n",
      "Data columns (total 10 columns):\n",
      " #   Column  Non-Null Count  Dtype  \n",
      "---  ------  --------------  -----  \n",
      " 0   age     442 non-null    float64\n",
      " 1   sex     442 non-null    float64\n",
      " 2   bmi     442 non-null    float64\n",
      " 3   bp      442 non-null    float64\n",
      " 4   s1      442 non-null    float64\n",
      " 5   s2      442 non-null    float64\n",
      " 6   s3      442 non-null    float64\n",
      " 7   s4      442 non-null    float64\n",
      " 8   s5      442 non-null    float64\n",
      " 9   s6      442 non-null    float64\n",
      "dtypes: float64(10)\n",
      "memory usage: 34.7 KB\n"
     ]
    },
    {
     "data": {
      "text/plain": [
       "age    0\n",
       "sex    0\n",
       "bmi    0\n",
       "bp     0\n",
       "s1     0\n",
       "s2     0\n",
       "s3     0\n",
       "s4     0\n",
       "s5     0\n",
       "s6     0\n",
       "dtype: int64"
      ]
     },
     "execution_count": 28,
     "metadata": {},
     "output_type": "execute_result"
    }
   ],
   "source": [
    "from sklearn.pipeline import Pipeline\n",
    "X.info() #видим, что все колонки имеют подходящий тип данных\n",
    "X['s4'].unique() #на всякий случай проверяем, не относится ли данная колонка к категориальным\n",
    "X.isna().sum() #пропущенных значений нет\n",
    "#Некоторые колонки требуют стандартизации из-за разных метрик\n",
    "#В датасете есть категориальные переменные, которые можно переформатировать в бинарный формат"
   ]
  },
  {
   "cell_type": "code",
   "execution_count": 29,
   "id": "330f62c3",
   "metadata": {},
   "outputs": [
    {
     "data": {
      "text/html": [
       "<style>#sk-container-id-1 {\n",
       "  /* Definition of color scheme common for light and dark mode */\n",
       "  --sklearn-color-text: black;\n",
       "  --sklearn-color-line: gray;\n",
       "  /* Definition of color scheme for unfitted estimators */\n",
       "  --sklearn-color-unfitted-level-0: #fff5e6;\n",
       "  --sklearn-color-unfitted-level-1: #f6e4d2;\n",
       "  --sklearn-color-unfitted-level-2: #ffe0b3;\n",
       "  --sklearn-color-unfitted-level-3: chocolate;\n",
       "  /* Definition of color scheme for fitted estimators */\n",
       "  --sklearn-color-fitted-level-0: #f0f8ff;\n",
       "  --sklearn-color-fitted-level-1: #d4ebff;\n",
       "  --sklearn-color-fitted-level-2: #b3dbfd;\n",
       "  --sklearn-color-fitted-level-3: cornflowerblue;\n",
       "\n",
       "  /* Specific color for light theme */\n",
       "  --sklearn-color-text-on-default-background: var(--sg-text-color, var(--theme-code-foreground, var(--jp-content-font-color1, black)));\n",
       "  --sklearn-color-background: var(--sg-background-color, var(--theme-background, var(--jp-layout-color0, white)));\n",
       "  --sklearn-color-border-box: var(--sg-text-color, var(--theme-code-foreground, var(--jp-content-font-color1, black)));\n",
       "  --sklearn-color-icon: #696969;\n",
       "\n",
       "  @media (prefers-color-scheme: dark) {\n",
       "    /* Redefinition of color scheme for dark theme */\n",
       "    --sklearn-color-text-on-default-background: var(--sg-text-color, var(--theme-code-foreground, var(--jp-content-font-color1, white)));\n",
       "    --sklearn-color-background: var(--sg-background-color, var(--theme-background, var(--jp-layout-color0, #111)));\n",
       "    --sklearn-color-border-box: var(--sg-text-color, var(--theme-code-foreground, var(--jp-content-font-color1, white)));\n",
       "    --sklearn-color-icon: #878787;\n",
       "  }\n",
       "}\n",
       "\n",
       "#sk-container-id-1 {\n",
       "  color: var(--sklearn-color-text);\n",
       "}\n",
       "\n",
       "#sk-container-id-1 pre {\n",
       "  padding: 0;\n",
       "}\n",
       "\n",
       "#sk-container-id-1 input.sk-hidden--visually {\n",
       "  border: 0;\n",
       "  clip: rect(1px 1px 1px 1px);\n",
       "  clip: rect(1px, 1px, 1px, 1px);\n",
       "  height: 1px;\n",
       "  margin: -1px;\n",
       "  overflow: hidden;\n",
       "  padding: 0;\n",
       "  position: absolute;\n",
       "  width: 1px;\n",
       "}\n",
       "\n",
       "#sk-container-id-1 div.sk-dashed-wrapped {\n",
       "  border: 1px dashed var(--sklearn-color-line);\n",
       "  margin: 0 0.4em 0.5em 0.4em;\n",
       "  box-sizing: border-box;\n",
       "  padding-bottom: 0.4em;\n",
       "  background-color: var(--sklearn-color-background);\n",
       "}\n",
       "\n",
       "#sk-container-id-1 div.sk-container {\n",
       "  /* jupyter's `normalize.less` sets `[hidden] { display: none; }`\n",
       "     but bootstrap.min.css set `[hidden] { display: none !important; }`\n",
       "     so we also need the `!important` here to be able to override the\n",
       "     default hidden behavior on the sphinx rendered scikit-learn.org.\n",
       "     See: https://github.com/scikit-learn/scikit-learn/issues/21755 */\n",
       "  display: inline-block !important;\n",
       "  position: relative;\n",
       "}\n",
       "\n",
       "#sk-container-id-1 div.sk-text-repr-fallback {\n",
       "  display: none;\n",
       "}\n",
       "\n",
       "div.sk-parallel-item,\n",
       "div.sk-serial,\n",
       "div.sk-item {\n",
       "  /* draw centered vertical line to link estimators */\n",
       "  background-image: linear-gradient(var(--sklearn-color-text-on-default-background), var(--sklearn-color-text-on-default-background));\n",
       "  background-size: 2px 100%;\n",
       "  background-repeat: no-repeat;\n",
       "  background-position: center center;\n",
       "}\n",
       "\n",
       "/* Parallel-specific style estimator block */\n",
       "\n",
       "#sk-container-id-1 div.sk-parallel-item::after {\n",
       "  content: \"\";\n",
       "  width: 100%;\n",
       "  border-bottom: 2px solid var(--sklearn-color-text-on-default-background);\n",
       "  flex-grow: 1;\n",
       "}\n",
       "\n",
       "#sk-container-id-1 div.sk-parallel {\n",
       "  display: flex;\n",
       "  align-items: stretch;\n",
       "  justify-content: center;\n",
       "  background-color: var(--sklearn-color-background);\n",
       "  position: relative;\n",
       "}\n",
       "\n",
       "#sk-container-id-1 div.sk-parallel-item {\n",
       "  display: flex;\n",
       "  flex-direction: column;\n",
       "}\n",
       "\n",
       "#sk-container-id-1 div.sk-parallel-item:first-child::after {\n",
       "  align-self: flex-end;\n",
       "  width: 50%;\n",
       "}\n",
       "\n",
       "#sk-container-id-1 div.sk-parallel-item:last-child::after {\n",
       "  align-self: flex-start;\n",
       "  width: 50%;\n",
       "}\n",
       "\n",
       "#sk-container-id-1 div.sk-parallel-item:only-child::after {\n",
       "  width: 0;\n",
       "}\n",
       "\n",
       "/* Serial-specific style estimator block */\n",
       "\n",
       "#sk-container-id-1 div.sk-serial {\n",
       "  display: flex;\n",
       "  flex-direction: column;\n",
       "  align-items: center;\n",
       "  background-color: var(--sklearn-color-background);\n",
       "  padding-right: 1em;\n",
       "  padding-left: 1em;\n",
       "}\n",
       "\n",
       "\n",
       "/* Toggleable style: style used for estimator/Pipeline/ColumnTransformer box that is\n",
       "clickable and can be expanded/collapsed.\n",
       "- Pipeline and ColumnTransformer use this feature and define the default style\n",
       "- Estimators will overwrite some part of the style using the `sk-estimator` class\n",
       "*/\n",
       "\n",
       "/* Pipeline and ColumnTransformer style (default) */\n",
       "\n",
       "#sk-container-id-1 div.sk-toggleable {\n",
       "  /* Default theme specific background. It is overwritten whether we have a\n",
       "  specific estimator or a Pipeline/ColumnTransformer */\n",
       "  background-color: var(--sklearn-color-background);\n",
       "}\n",
       "\n",
       "/* Toggleable label */\n",
       "#sk-container-id-1 label.sk-toggleable__label {\n",
       "  cursor: pointer;\n",
       "  display: block;\n",
       "  width: 100%;\n",
       "  margin-bottom: 0;\n",
       "  padding: 0.5em;\n",
       "  box-sizing: border-box;\n",
       "  text-align: center;\n",
       "}\n",
       "\n",
       "#sk-container-id-1 label.sk-toggleable__label-arrow:before {\n",
       "  /* Arrow on the left of the label */\n",
       "  content: \"▸\";\n",
       "  float: left;\n",
       "  margin-right: 0.25em;\n",
       "  color: var(--sklearn-color-icon);\n",
       "}\n",
       "\n",
       "#sk-container-id-1 label.sk-toggleable__label-arrow:hover:before {\n",
       "  color: var(--sklearn-color-text);\n",
       "}\n",
       "\n",
       "/* Toggleable content - dropdown */\n",
       "\n",
       "#sk-container-id-1 div.sk-toggleable__content {\n",
       "  max-height: 0;\n",
       "  max-width: 0;\n",
       "  overflow: hidden;\n",
       "  text-align: left;\n",
       "  /* unfitted */\n",
       "  background-color: var(--sklearn-color-unfitted-level-0);\n",
       "}\n",
       "\n",
       "#sk-container-id-1 div.sk-toggleable__content.fitted {\n",
       "  /* fitted */\n",
       "  background-color: var(--sklearn-color-fitted-level-0);\n",
       "}\n",
       "\n",
       "#sk-container-id-1 div.sk-toggleable__content pre {\n",
       "  margin: 0.2em;\n",
       "  border-radius: 0.25em;\n",
       "  color: var(--sklearn-color-text);\n",
       "  /* unfitted */\n",
       "  background-color: var(--sklearn-color-unfitted-level-0);\n",
       "}\n",
       "\n",
       "#sk-container-id-1 div.sk-toggleable__content.fitted pre {\n",
       "  /* unfitted */\n",
       "  background-color: var(--sklearn-color-fitted-level-0);\n",
       "}\n",
       "\n",
       "#sk-container-id-1 input.sk-toggleable__control:checked~div.sk-toggleable__content {\n",
       "  /* Expand drop-down */\n",
       "  max-height: 200px;\n",
       "  max-width: 100%;\n",
       "  overflow: auto;\n",
       "}\n",
       "\n",
       "#sk-container-id-1 input.sk-toggleable__control:checked~label.sk-toggleable__label-arrow:before {\n",
       "  content: \"▾\";\n",
       "}\n",
       "\n",
       "/* Pipeline/ColumnTransformer-specific style */\n",
       "\n",
       "#sk-container-id-1 div.sk-label input.sk-toggleable__control:checked~label.sk-toggleable__label {\n",
       "  color: var(--sklearn-color-text);\n",
       "  background-color: var(--sklearn-color-unfitted-level-2);\n",
       "}\n",
       "\n",
       "#sk-container-id-1 div.sk-label.fitted input.sk-toggleable__control:checked~label.sk-toggleable__label {\n",
       "  background-color: var(--sklearn-color-fitted-level-2);\n",
       "}\n",
       "\n",
       "/* Estimator-specific style */\n",
       "\n",
       "/* Colorize estimator box */\n",
       "#sk-container-id-1 div.sk-estimator input.sk-toggleable__control:checked~label.sk-toggleable__label {\n",
       "  /* unfitted */\n",
       "  background-color: var(--sklearn-color-unfitted-level-2);\n",
       "}\n",
       "\n",
       "#sk-container-id-1 div.sk-estimator.fitted input.sk-toggleable__control:checked~label.sk-toggleable__label {\n",
       "  /* fitted */\n",
       "  background-color: var(--sklearn-color-fitted-level-2);\n",
       "}\n",
       "\n",
       "#sk-container-id-1 div.sk-label label.sk-toggleable__label,\n",
       "#sk-container-id-1 div.sk-label label {\n",
       "  /* The background is the default theme color */\n",
       "  color: var(--sklearn-color-text-on-default-background);\n",
       "}\n",
       "\n",
       "/* On hover, darken the color of the background */\n",
       "#sk-container-id-1 div.sk-label:hover label.sk-toggleable__label {\n",
       "  color: var(--sklearn-color-text);\n",
       "  background-color: var(--sklearn-color-unfitted-level-2);\n",
       "}\n",
       "\n",
       "/* Label box, darken color on hover, fitted */\n",
       "#sk-container-id-1 div.sk-label.fitted:hover label.sk-toggleable__label.fitted {\n",
       "  color: var(--sklearn-color-text);\n",
       "  background-color: var(--sklearn-color-fitted-level-2);\n",
       "}\n",
       "\n",
       "/* Estimator label */\n",
       "\n",
       "#sk-container-id-1 div.sk-label label {\n",
       "  font-family: monospace;\n",
       "  font-weight: bold;\n",
       "  display: inline-block;\n",
       "  line-height: 1.2em;\n",
       "}\n",
       "\n",
       "#sk-container-id-1 div.sk-label-container {\n",
       "  text-align: center;\n",
       "}\n",
       "\n",
       "/* Estimator-specific */\n",
       "#sk-container-id-1 div.sk-estimator {\n",
       "  font-family: monospace;\n",
       "  border: 1px dotted var(--sklearn-color-border-box);\n",
       "  border-radius: 0.25em;\n",
       "  box-sizing: border-box;\n",
       "  margin-bottom: 0.5em;\n",
       "  /* unfitted */\n",
       "  background-color: var(--sklearn-color-unfitted-level-0);\n",
       "}\n",
       "\n",
       "#sk-container-id-1 div.sk-estimator.fitted {\n",
       "  /* fitted */\n",
       "  background-color: var(--sklearn-color-fitted-level-0);\n",
       "}\n",
       "\n",
       "/* on hover */\n",
       "#sk-container-id-1 div.sk-estimator:hover {\n",
       "  /* unfitted */\n",
       "  background-color: var(--sklearn-color-unfitted-level-2);\n",
       "}\n",
       "\n",
       "#sk-container-id-1 div.sk-estimator.fitted:hover {\n",
       "  /* fitted */\n",
       "  background-color: var(--sklearn-color-fitted-level-2);\n",
       "}\n",
       "\n",
       "/* Specification for estimator info (e.g. \"i\" and \"?\") */\n",
       "\n",
       "/* Common style for \"i\" and \"?\" */\n",
       "\n",
       ".sk-estimator-doc-link,\n",
       "a:link.sk-estimator-doc-link,\n",
       "a:visited.sk-estimator-doc-link {\n",
       "  float: right;\n",
       "  font-size: smaller;\n",
       "  line-height: 1em;\n",
       "  font-family: monospace;\n",
       "  background-color: var(--sklearn-color-background);\n",
       "  border-radius: 1em;\n",
       "  height: 1em;\n",
       "  width: 1em;\n",
       "  text-decoration: none !important;\n",
       "  margin-left: 1ex;\n",
       "  /* unfitted */\n",
       "  border: var(--sklearn-color-unfitted-level-1) 1pt solid;\n",
       "  color: var(--sklearn-color-unfitted-level-1);\n",
       "}\n",
       "\n",
       ".sk-estimator-doc-link.fitted,\n",
       "a:link.sk-estimator-doc-link.fitted,\n",
       "a:visited.sk-estimator-doc-link.fitted {\n",
       "  /* fitted */\n",
       "  border: var(--sklearn-color-fitted-level-1) 1pt solid;\n",
       "  color: var(--sklearn-color-fitted-level-1);\n",
       "}\n",
       "\n",
       "/* On hover */\n",
       "div.sk-estimator:hover .sk-estimator-doc-link:hover,\n",
       ".sk-estimator-doc-link:hover,\n",
       "div.sk-label-container:hover .sk-estimator-doc-link:hover,\n",
       ".sk-estimator-doc-link:hover {\n",
       "  /* unfitted */\n",
       "  background-color: var(--sklearn-color-unfitted-level-3);\n",
       "  color: var(--sklearn-color-background);\n",
       "  text-decoration: none;\n",
       "}\n",
       "\n",
       "div.sk-estimator.fitted:hover .sk-estimator-doc-link.fitted:hover,\n",
       ".sk-estimator-doc-link.fitted:hover,\n",
       "div.sk-label-container:hover .sk-estimator-doc-link.fitted:hover,\n",
       ".sk-estimator-doc-link.fitted:hover {\n",
       "  /* fitted */\n",
       "  background-color: var(--sklearn-color-fitted-level-3);\n",
       "  color: var(--sklearn-color-background);\n",
       "  text-decoration: none;\n",
       "}\n",
       "\n",
       "/* Span, style for the box shown on hovering the info icon */\n",
       ".sk-estimator-doc-link span {\n",
       "  display: none;\n",
       "  z-index: 9999;\n",
       "  position: relative;\n",
       "  font-weight: normal;\n",
       "  right: .2ex;\n",
       "  padding: .5ex;\n",
       "  margin: .5ex;\n",
       "  width: min-content;\n",
       "  min-width: 20ex;\n",
       "  max-width: 50ex;\n",
       "  color: var(--sklearn-color-text);\n",
       "  box-shadow: 2pt 2pt 4pt #999;\n",
       "  /* unfitted */\n",
       "  background: var(--sklearn-color-unfitted-level-0);\n",
       "  border: .5pt solid var(--sklearn-color-unfitted-level-3);\n",
       "}\n",
       "\n",
       ".sk-estimator-doc-link.fitted span {\n",
       "  /* fitted */\n",
       "  background: var(--sklearn-color-fitted-level-0);\n",
       "  border: var(--sklearn-color-fitted-level-3);\n",
       "}\n",
       "\n",
       ".sk-estimator-doc-link:hover span {\n",
       "  display: block;\n",
       "}\n",
       "\n",
       "/* \"?\"-specific style due to the `<a>` HTML tag */\n",
       "\n",
       "#sk-container-id-1 a.estimator_doc_link {\n",
       "  float: right;\n",
       "  font-size: 1rem;\n",
       "  line-height: 1em;\n",
       "  font-family: monospace;\n",
       "  background-color: var(--sklearn-color-background);\n",
       "  border-radius: 1rem;\n",
       "  height: 1rem;\n",
       "  width: 1rem;\n",
       "  text-decoration: none;\n",
       "  /* unfitted */\n",
       "  color: var(--sklearn-color-unfitted-level-1);\n",
       "  border: var(--sklearn-color-unfitted-level-1) 1pt solid;\n",
       "}\n",
       "\n",
       "#sk-container-id-1 a.estimator_doc_link.fitted {\n",
       "  /* fitted */\n",
       "  border: var(--sklearn-color-fitted-level-1) 1pt solid;\n",
       "  color: var(--sklearn-color-fitted-level-1);\n",
       "}\n",
       "\n",
       "/* On hover */\n",
       "#sk-container-id-1 a.estimator_doc_link:hover {\n",
       "  /* unfitted */\n",
       "  background-color: var(--sklearn-color-unfitted-level-3);\n",
       "  color: var(--sklearn-color-background);\n",
       "  text-decoration: none;\n",
       "}\n",
       "\n",
       "#sk-container-id-1 a.estimator_doc_link.fitted:hover {\n",
       "  /* fitted */\n",
       "  background-color: var(--sklearn-color-fitted-level-3);\n",
       "}\n",
       "</style><div id=\"sk-container-id-1\" class=\"sk-top-container\"><div class=\"sk-text-repr-fallback\"><pre>Pipeline(steps=[(&#x27;scaler&#x27;, StandardScaler()),\n",
       "                (&#x27;knn_regressor&#x27;, KNeighborsRegressor())])</pre><b>In a Jupyter environment, please rerun this cell to show the HTML representation or trust the notebook. <br />On GitHub, the HTML representation is unable to render, please try loading this page with nbviewer.org.</b></div><div class=\"sk-container\" hidden><div class=\"sk-item sk-dashed-wrapped\"><div class=\"sk-label-container\"><div class=\"sk-label fitted sk-toggleable\"><input class=\"sk-toggleable__control sk-hidden--visually\" id=\"sk-estimator-id-1\" type=\"checkbox\" ><label for=\"sk-estimator-id-1\" class=\"sk-toggleable__label fitted sk-toggleable__label-arrow fitted\">&nbsp;&nbsp;Pipeline<a class=\"sk-estimator-doc-link fitted\" rel=\"noreferrer\" target=\"_blank\" href=\"https://scikit-learn.org/1.4/modules/generated/sklearn.pipeline.Pipeline.html\">?<span>Documentation for Pipeline</span></a><span class=\"sk-estimator-doc-link fitted\">i<span>Fitted</span></span></label><div class=\"sk-toggleable__content fitted\"><pre>Pipeline(steps=[(&#x27;scaler&#x27;, StandardScaler()),\n",
       "                (&#x27;knn_regressor&#x27;, KNeighborsRegressor())])</pre></div> </div></div><div class=\"sk-serial\"><div class=\"sk-item\"><div class=\"sk-estimator fitted sk-toggleable\"><input class=\"sk-toggleable__control sk-hidden--visually\" id=\"sk-estimator-id-2\" type=\"checkbox\" ><label for=\"sk-estimator-id-2\" class=\"sk-toggleable__label fitted sk-toggleable__label-arrow fitted\">&nbsp;StandardScaler<a class=\"sk-estimator-doc-link fitted\" rel=\"noreferrer\" target=\"_blank\" href=\"https://scikit-learn.org/1.4/modules/generated/sklearn.preprocessing.StandardScaler.html\">?<span>Documentation for StandardScaler</span></a></label><div class=\"sk-toggleable__content fitted\"><pre>StandardScaler()</pre></div> </div></div><div class=\"sk-item\"><div class=\"sk-estimator fitted sk-toggleable\"><input class=\"sk-toggleable__control sk-hidden--visually\" id=\"sk-estimator-id-3\" type=\"checkbox\" ><label for=\"sk-estimator-id-3\" class=\"sk-toggleable__label fitted sk-toggleable__label-arrow fitted\">&nbsp;KNeighborsRegressor<a class=\"sk-estimator-doc-link fitted\" rel=\"noreferrer\" target=\"_blank\" href=\"https://scikit-learn.org/1.4/modules/generated/sklearn.neighbors.KNeighborsRegressor.html\">?<span>Documentation for KNeighborsRegressor</span></a></label><div class=\"sk-toggleable__content fitted\"><pre>KNeighborsRegressor()</pre></div> </div></div></div></div></div></div>"
      ],
      "text/plain": [
       "Pipeline(steps=[('scaler', StandardScaler()),\n",
       "                ('knn_regressor', KNeighborsRegressor())])"
      ]
     },
     "execution_count": 29,
     "metadata": {},
     "output_type": "execute_result"
    }
   ],
   "source": [
    "X_train, X_test, y_train, y_test = train_test_split(X, y, test_size=0.3, random_state=42)\n",
    "#cat = ['age', 'bmi', 'bp','s1','s2','s3','s4','s5','s6']\n",
    "pipeline = Pipeline([('scaler', StandardScaler()), ('knn_regressor', KNeighborsRegressor())])\n",
    "pipeline.fit(X_train, y_train)\n",
    "\n"
   ]
  },
  {
   "cell_type": "markdown",
   "id": "8e1fa5ec-18db-4e7b-88f1-6d010f449488",
   "metadata": {},
   "source": [
    "### 2.2. Регрессионная модель (1 балл)"
   ]
  },
  {
   "cell_type": "markdown",
   "id": "3d79f583-5feb-4eeb-b748-9b4cdea9150d",
   "metadata": {},
   "source": [
    "Создайте модель `KNeighborsRegressor`, обучите ее на треноровочных данных и сделайте предсказания."
   ]
  },
  {
   "cell_type": "code",
   "execution_count": 30,
   "id": "79c9f6d1",
   "metadata": {},
   "outputs": [],
   "source": [
    "knn = KNeighborsRegressor()\n",
    "knn.fit(X_train,y_train)\n",
    "prediction = knn.predict(X_test)"
   ]
  },
  {
   "cell_type": "markdown",
   "id": "5ed4a2ea-4f42-43cb-95d7-50cdeab5f284",
   "metadata": {},
   "source": [
    "### 2.3. Метрики регресии (3 балла)"
   ]
  },
  {
   "cell_type": "markdown",
   "id": "cbf563ad-1b71-464c-8359-75fa4da268d3",
   "metadata": {},
   "source": [
    "Реализуйте метрики $R^2$, MSE и  MAE в `metrics.py`. Примените их для оценки качества полученной модели. Все ли хорошо?\n",
    "\n",
    "Напомню, что:\n",
    "\n",
    "$R^2 = 1 - \\frac{\\sum_i^n{(y_i - \\hat{y_i})^2}}{\\sum_i^n{(y_i - \\overline{y})^2}}$\n",
    "\n",
    "$MSE = \\frac{1}{n}\\sum_i^n{(y_i - \\hat{y_i})^2}$\n",
    "\n",
    "$MAE = \\frac{1}{n}\\sum_i^n{|y_i - \\hat{y_i}|}$"
   ]
  },
  {
   "cell_type": "code",
   "execution_count": 33,
   "id": "580f604f-e9c5-4109-8b9f-235369836057",
   "metadata": {},
   "outputs": [
    {
     "name": "stdout",
     "output_type": "stream",
     "text": [
      "0.20169747690313522 0.20169747690313522\n",
      "53.41954887218045 53.41954887218045\n",
      "4309.4827067669175 4309.4827067669175\n"
     ]
    }
   ],
   "source": [
    "from metrics import r_squared, mse, mae\n",
    "\n",
    "print(r2_score(y_test, prediction), r_squared(prediction, y_test))\n",
    "print(mean_absolute_error(prediction, y_test), mae(prediction, y_test))\n",
    "print(mean_squared_error(prediction, y_test), mse(prediction, y_test))\n",
    "#сходится!"
   ]
  },
  {
   "cell_type": "markdown",
   "id": "a6568d8d-a9ec-4639-aac1-0ea18a644f9e",
   "metadata": {},
   "source": [
    "### 2.4. Подбор оптимального числа соседей (2 балла)"
   ]
  },
  {
   "cell_type": "markdown",
   "id": "d82f145d-41f5-4bbe-b553-1d05d90ec2a2",
   "metadata": {},
   "source": [
    "Мы почти дошли до конца. Теперь осталось при помощи реализованных нами метрик выбрать лучшее количество соседей для нашей модели.\n",
    "\n",
    "!!! Обратите внимание на то, что значат наши метрики, для некоторых хорошо, когда они уменьшаются, для других наоборот."
   ]
  },
  {
   "cell_type": "code",
   "execution_count": 37,
   "id": "138a7969-8079-4a38-b92e-8eae5d246325",
   "metadata": {},
   "outputs": [
    {
     "data": {
      "image/png": "[encoded data removed]",
      "text/plain": [
       "<Figure size 1200x900 with 1 Axes>"
      ]
     },
     "metadata": {},
     "output_type": "display_data"
    }
   ],
   "source": [
    "from metrics import r_squared, mse, mae\n",
    "def find_best_k(X_train, y_train, X_test, y_test, params, metric):\n",
    "    \"\"\"\n",
    "    Choose the best k for KNeighborsRegressor\n",
    "    Arguments:\n",
    "    X_train, np array (num_train_samples, num_features) - train data\n",
    "    y_train, np array (num_train_samples) - train labels\n",
    "    X_test, np array (num_test_samples, num_features) - test data\n",
    "    y_test, np array (num_test_samples) - test labels\n",
    "    params, list of hyperparameters for KNN, here it is list of k values\n",
    "    metric, function for metric calculation\n",
    "    Returns:\n",
    "    train_metrics the list of metric values on train data set for each k in params\n",
    "    test_metrics the list of metric values on test data set for each k in params\n",
    "    \"\"\"\n",
    "    train_metrics = []\n",
    "    test_metrics = []\n",
    "\n",
    "    for k in params:\n",
    "        knn = KNeighborsRegressor(k)\n",
    "        knn.fit(X_train, y_train)\n",
    "        train_pred = knn.predict(X_train)\n",
    "        train_metrics.append(metric(train_pred, y_train))\n",
    "        test_pred = knn.predict(X_test)\n",
    "        test_metrics.append(metric(test_pred, y_test))\n",
    "    return train_metrics, test_metrics \n",
    "\n",
    "params = [1, 2, 4, 5, 8, 10, 30, 50]\n",
    "train_metrics, test_metrics = find_best_k(X_train, y_train, X_test, y_test, params, r_squared)\n",
    "plt.plot(params, train_metrics, label=\"train\")\n",
    "plt.plot(params, test_metrics, label=\"test\")\n",
    "plt.legend()\n",
    "plt.xlabel(\"K in KNN\")\n",
    "plt.ylabel(\"r_squared\");"
   ]
  },
  {
   "cell_type": "markdown",
   "id": "1b4bbef7-35a4-4f05-abf8-5d2b450c86f2",
   "metadata": {},
   "source": [
    "Для поиска лучшего k вы можете воспользоваться функцией `find_best_k`, которую вы реализовали выше.\n",
    "\n",
    "Вывод: ура! теперь видна какая-то динамика! \n",
    "В данном случае мы рассматривали метрику р-квадрат, самое её высокое значение аблюдается при k, близком к 10"
   ]
  },
  {
   "cell_type": "markdown",
   "id": "2cb77960-fa30-4a29-9a1b-7c195cc867cb",
   "metadata": {},
   "source": [
    "### 3. Социализация (0.5 доп. балла)\n",
    "\n",
    "Так как у нас теперь большая группа, то было бы здорово всем познакомиться получше (так как выпускной не за горами). Соберитесь с одногруппниками в зуме, познакомьтесь, а сюда прикрепите скриншот с камерами всех участников."
   ]
  },
  {
   "cell_type": "markdown",
   "id": "d940fda2",
   "metadata": {},
   "source": [
    "Мы и правда собрались всей дружой и большой компанией в зуме, чему есть документальные подтверждения ниже.\n",
    "\n",
    "![](people2.png)\n",
    "\n",
    "К данному моменту проверяющий уже должно быть понял, что автор работы довольно косячный человек, а поэтому именно в момент этой встречи у этого самого косячного человека слетели драйвера камеры."
   ]
  },
  {
   "cell_type": "markdown",
   "id": "e116a42f-fae8-499c-a985-dc09e66a29b0",
   "metadata": {},
   "source": [
    "## Therapy time"
   ]
  },
  {
   "cell_type": "markdown",
   "id": "031c493b-26f3-4622-a1f4-affee64f81db",
   "metadata": {},
   "source": [
    "Напишите здесь ваши впечатления о задании: было ли интересно, было ли слишком легко или наоборот сложно и тд. Также сюда можно написать свои идеи по улучшению заданий, а также предложить данные, на основе которых вы бы хотели построить следующие дз. "
   ]
  },
  {
   "cell_type": "markdown",
   "id": "6d1c75b8",
   "metadata": {},
   "source": [
    "**Ваши мысли:**"
   ]
  },
  {
   "cell_type": "markdown",
   "id": "b2ed2612",
   "metadata": {},
   "source": [
    "Это был настоящий экспириенс :) Очень объемная работа, очень много работы с numpy и решения вылезающих тут и там проблем - очень круто! Одно домашнее задание, но как будто целый интенсив! "
   ]
  }
 ],
 "metadata": {
  "kernelspec": {
   "display_name": "Python 3",
   "language": "python",
   "name": "python3"
  },
  "language_info": {
   "codemirror_mode": {
    "name": "ipython",
    "version": 3
   },
   "file_extension": ".py",
   "mimetype": "text/x-python",
   "name": "python",
   "nbconvert_exporter": "python",
   "pygments_lexer": "ipython3",
   "version": "3.12.0"
  }
 },
 "nbformat": 4,
 "nbformat_minor": 5
}
